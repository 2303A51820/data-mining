{
  "nbformat": 4,
  "nbformat_minor": 0,
  "metadata": {
    "colab": {
      "provenance": [],
      "authorship_tag": "ABX9TyPXACVQduy5t5hTiub8Ssok",
      "include_colab_link": true
    },
    "kernelspec": {
      "name": "python3",
      "display_name": "Python 3"
    },
    "language_info": {
      "name": "python"
    }
  },
  "cells": [
    {
      "cell_type": "markdown",
      "metadata": {
        "id": "view-in-github",
        "colab_type": "text"
      },
      "source": [
        "<a href=\"https://colab.research.google.com/github/2303A51820/data-mining/blob/main/Lab_6_1820.ipynb\" target=\"_parent\"><img src=\"https://colab.research.google.com/assets/colab-badge.svg\" alt=\"Open In Colab\"/></a>"
      ]
    },
    {
      "cell_type": "code",
      "execution_count": 1,
      "metadata": {
        "id": "KKGT3j5EvJ5t"
      },
      "outputs": [],
      "source": [
        "import numpy as np\n",
        "import pandas as pd\n",
        "import matplotlib.pyplot as plt\n",
        "import seaborn as sns\n",
        "from scipy import stats"
      ]
    },
    {
      "cell_type": "code",
      "source": [
        "  #create a synthetic dataset\n",
        "  np.random.seed(42)\n",
        "  data=np.random.normal(0,1,100)  #Normal distribution\n",
        "  outliers=np.random.uniform(5,10,5)   #artificial outliners"
      ],
      "metadata": {
        "id": "OhmgN3v-wXJn"
      },
      "execution_count": 2,
      "outputs": []
    },
    {
      "cell_type": "code",
      "source": [
        "data_with_outliers=np.concatenate([data,outliers])\n",
        "\n",
        "df=pd.DataFrame(data_with_outliers,columns=['value'])\n",
        "\n",
        "Q1=df['value'].quantile(0.25)\n",
        "Q3=df['value'].quantile(0.75)\n",
        "IQR=Q3-Q1\n",
        "\n",
        "lower_bound=Q1-1.5*IQR\n",
        "upper_bound=Q3+1.5*IQR\n",
        "print(lower_bound)\n",
        "print(upper_bound)"
      ],
      "metadata": {
        "colab": {
          "base_uri": "https://localhost:8080/"
        },
        "id": "U9Tce3HQwXL1",
        "outputId": "ec11bd22-a862-4faf-b1a6-9459023578ab"
      },
      "execution_count": 8,
      "outputs": [
        {
          "output_type": "stream",
          "name": "stdout",
          "text": [
            "-2.3232332563637335\n",
            "2.372622015963629\n"
          ]
        }
      ]
    },
    {
      "cell_type": "code",
      "source": [
        "outliers_iqr=df[(df['value']<lower_bound) | (df['value']>upper_bound)]"
      ],
      "metadata": {
        "id": "LvfM1-85wXOM"
      },
      "execution_count": 4,
      "outputs": []
    },
    {
      "cell_type": "code",
      "source": [
        "z_scores=stats.zscore(df['value'])\n",
        "outliers_zscore=df[np.abs(z_scores)>3]\n",
        "\n",
        "plt.figure(figsize=(8,6))\n",
        "sns.boxplot(x=df['value'])\n",
        "plt.title('Boxplot for Outlier Detection')\n",
        "plt.show()"
      ],
      "metadata": {
        "colab": {
          "base_uri": "https://localhost:8080/",
          "height": 564
        },
        "id": "skjP9VsEwXQj",
        "outputId": "82545ab8-6919-4aee-8e36-9ac4f7dae13e"
      },
      "execution_count": 12,
      "outputs": [
        {
          "output_type": "display_data",
          "data": {
            "text/plain": [
              "<Figure size 800x600 with 1 Axes>"
            ],
            "image/png": "[encoded data removed]"
          },
          "metadata": {}
        }
      ]
    },
    {
      "cell_type": "code",
      "source": [
        "df_capped=df.copy()\n",
        "df_capped['value']=np.clip(df_capped['value'],lower_bound,upper_bound)\n",
        "print(df)"
      ],
      "metadata": {
        "colab": {
          "base_uri": "https://localhost:8080/"
        },
        "id": "y2oM4iRGwXSc",
        "outputId": "7964726a-d069-4a1e-e6b8-90a6c5d77bed"
      },
      "execution_count": 22,
      "outputs": [
        {
          "output_type": "stream",
          "name": "stdout",
          "text": [
            "        value\n",
            "0    0.496714\n",
            "1   -0.138264\n",
            "2    0.647689\n",
            "3    1.523030\n",
            "4   -0.234153\n",
            "..        ...\n",
            "100  7.087055\n",
            "101  6.110539\n",
            "102  5.599327\n",
            "103  6.688076\n",
            "104  9.714549\n",
            "\n",
            "[105 rows x 1 columns]\n"
          ]
        }
      ]
    },
    {
      "cell_type": "code",
      "source": [
        "df_removed=df.copy()\n",
        "df_removed=df_removed[(df_removed['value']>=lower_bound) &\n",
        "(df_removed['value']<=upper_bound)]\n",
        "print(df_removed)"
      ],
      "metadata": {
        "colab": {
          "base_uri": "https://localhost:8080/"
        },
        "id": "qDiphCkqwXVy",
        "outputId": "185984b0-2894-452c-8554-718ce4f55293"
      },
      "execution_count": 26,
      "outputs": [
        {
          "output_type": "stream",
          "name": "stdout",
          "text": [
            "       value\n",
            "0   0.496714\n",
            "1  -0.138264\n",
            "2   0.647689\n",
            "3   1.523030\n",
            "4  -0.234153\n",
            "..       ...\n",
            "95 -1.463515\n",
            "96  0.296120\n",
            "97  0.261055\n",
            "98  0.005113\n",
            "99 -0.234587\n",
            "\n",
            "[99 rows x 1 columns]\n"
          ]
        }
      ]
    },
    {
      "cell_type": "code",
      "source": [
        "df_imputed=df.copy()\n",
        "median_value=df_imputed['value'].median()\n",
        "df_imputed['value']=np.where((df_imputed['value']<lower_bound) |\n",
        "(df_imputed['value']>upper_bound),median_value,df_imputed['value'])\n",
        "print(df_imputed)"
      ],
      "metadata": {
        "id": "XwvQYywVCkYK",
        "outputId": "9f584c42-18ce-4c73-9314-98b29c200a34",
        "colab": {
          "base_uri": "https://localhost:8080/"
        }
      },
      "execution_count": 25,
      "outputs": [
        {
          "output_type": "stream",
          "name": "stdout",
          "text": [
            "        value\n",
            "0    0.496714\n",
            "1   -0.138264\n",
            "2    0.647689\n",
            "3    1.523030\n",
            "4   -0.234153\n",
            "..        ...\n",
            "100 -0.035826\n",
            "101 -0.035826\n",
            "102 -0.035826\n",
            "103 -0.035826\n",
            "104 -0.035826\n",
            "\n",
            "[105 rows x 1 columns]\n"
          ]
        }
      ]
    }
  ]
}