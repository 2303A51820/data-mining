{
  "nbformat": 4,
  "nbformat_minor": 0,
  "metadata": {
    "colab": {
      "provenance": [],
      "authorship_tag": "ABX9TyOJgPPdQ82bE1fXckObD2FO",
      "include_colab_link": true
    },
    "kernelspec": {
      "name": "python3",
      "display_name": "Python 3"
    },
    "language_info": {
      "name": "python"
    }
  },
  "cells": [
    {
      "cell_type": "markdown",
      "metadata": {
        "id": "view-in-github",
        "colab_type": "text"
      },
      "source": [
        "<a href=\"https://colab.research.google.com/github/2303A51820/data-mining/blob/main/multipleLinearRegression.ipynb\" target=\"_parent\"><img src=\"https://colab.research.google.com/assets/colab-badge.svg\" alt=\"Open In Colab\"/></a>"
      ]
    },
    {
      "cell_type": "code",
      "source": [
        "import numpy as np\n",
        "import pandas as pd\n",
        "import matplotlib.pyplot as plt\n",
        "from sklearn.model_selection import train_test_split\n",
        "from sklearn.linear_model import LinearRegression\n",
        "from sklearn.metrics import mean_squared_error, r2_score\n",
        "data={\n",
        "    'feature1':[1,2,3,4,5,6,7,8,9,10],\n",
        "    'feature2':[2,3,4,5,6,7,8,9,10,11],\n",
        "    'feature3':[3,4,5,6,7,8,9,10,11,12],\n",
        "    'Target':[5,7,9,11,13,15,17,19,21,23]\n",
        "}\n",
        "df=pd.DataFrame(data)\n",
        "X=df[['feature1','feature2','feature3']]\n",
        "y=df['Target']\n",
        "X_train,X_test,y_train,y_test=train_test_split(X,y,test_size=0.2,random_state=42)\n",
        "model=LinearRegression()\n",
        "model.fit(X_train,y_train)\n",
        "y_pred=model.predict(X_test)\n",
        "print(f\"Coefficients:{model.coef_}\")\n",
        "print(f\"Intercept:{model.intercept_}\")\n",
        "mse=mean_squared_error(y_test,y_pred)"
      ],
      "metadata": {
        "colab": {
          "base_uri": "https://localhost:8080/"
        },
        "id": "FZlst8SzUxuZ",
        "outputId": "43ef9b71-8c83-4fd4-e464-ea975ac2a704"
      },
      "execution_count": 26,
      "outputs": [
        {
          "output_type": "stream",
          "name": "stdout",
          "text": [
            "Coefficients:[0.66666667 0.66666667 0.66666667]\n",
            "Intercept:0.9999999999999982\n"
          ]
        }
      ]
    },
    {
      "cell_type": "code",
      "source": [
        "import numpy as np\n",
        "import pandas as pd\n",
        "import matplotlib.pyplot as plt\n",
        "from sklearn.model_selection import train_test_split\n",
        "from sklearn.linear_model import LinearRegression\n",
        "from sklearn.metrics import mean_squared_error, r2_score\n",
        "data=pd.read_csv(\"/content/Advertising.csv\")\n",
        "df=pd.DataFrame(data)\n",
        "print(df)\n",
        "X=df[['TV','Radio','Newspaper']]\n",
        "y=df['Sales']\n",
        "X_train,X_test,y_train,y_test=train_test_split(X,y,test_size=0.2,random_state=42)\n",
        "model=LinearRegression()\n",
        "model.fit(X_train,y_train)\n",
        "y_pred=model.predict(X_test)\n",
        "print(f\"Coefficients:{model.coef_}\")\n",
        "print(f\"Intercept:{model.intercept_}\")\n",
        "mse=mean_squared_error(y_test,y_pred)"
      ],
      "metadata": {
        "colab": {
          "base_uri": "https://localhost:8080/"
        },
        "id": "acj9OvjoUO0H",
        "outputId": "c8e0011e-918d-4df2-9311-2c5f8414b535"
      },
      "execution_count": 25,
      "outputs": [
        {
          "output_type": "stream",
          "name": "stdout",
          "text": [
            "     Unnamed: 0     TV  Radio  Newspaper  Sales\n",
            "0             1  230.1   37.8       69.2   22.1\n",
            "1             2   44.5   39.3       45.1   10.4\n",
            "2             3   17.2   45.9       69.3    9.3\n",
            "3             4  151.5   41.3       58.5   18.5\n",
            "4             5  180.8   10.8       58.4   12.9\n",
            "..          ...    ...    ...        ...    ...\n",
            "195         196   38.2    3.7       13.8    7.6\n",
            "196         197   94.2    4.9        8.1    9.7\n",
            "197         198  177.0    9.3        6.4   12.8\n",
            "198         199  283.6   42.0       66.2   25.5\n",
            "199         200  232.1    8.6        8.7   13.4\n",
            "\n",
            "[200 rows x 5 columns]\n",
            "Coefficients:[0.04472952 0.18919505 0.00276111]\n",
            "Intercept:2.979067338122629\n"
          ]
        }
      ]
    }
  ]
}